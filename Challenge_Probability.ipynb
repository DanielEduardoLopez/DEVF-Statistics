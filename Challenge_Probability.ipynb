{
  "nbformat": 4,
  "nbformat_minor": 0,
  "metadata": {
    "colab": {
      "name": "Challenge Introduccion a la probabilidad.ipynb",
      "provenance": [],
      "collapsed_sections": []
    },
    "kernelspec": {
      "name": "python3",
      "display_name": "Python 3"
    },
    "language_info": {
      "name": "python"
    }
  },
  "cells": [
    {
      "cell_type": "markdown",
      "source": [
        "# Utilizando la librería random crea las siguientes funciones:\n",
        "\n",
        "\n",
        "* Lanzamiento de una moneda\n",
        "* Lanzamiento de una canica en una ruleta con 36 casillas (con dos casillas donde la casa gana)\n",
        "* Lanzamiento de dos dados con N caras cada uno"
      ],
      "metadata": {
        "id": "ELWUwVIGf5wj"
      }
    },
    {
      "cell_type": "code",
      "source": [
        "import pandas as pd\n",
        "import numpy as np\n",
        "import random \n",
        "import matplotlib.pyplot as plt\n",
        "import matplotlib as mpl\n"
      ],
      "metadata": {
        "id": "4ZVfODRdax4m"
      },
      "execution_count": 31,
      "outputs": []
    },
    {
      "cell_type": "code",
      "source": [
        "mpl.style.use('ggplot') # For ggplot style"
      ],
      "metadata": {
        "id": "V5qxxBjtQedl"
      },
      "execution_count": 32,
      "outputs": []
    },
    {
      "cell_type": "code",
      "source": [
        "# Función moneda\n",
        "def moneda(no_juegos, apuesta, monto_apuesta, monto_ganancia):\n",
        "  \"\"\"\n",
        "  Esta función simula tirar una moneda cierto número de veces, guarda el resultado del tiro \n",
        "  y de acuerdo con la apuesta, calcula y almacena las ganancias obtenidas (o pérdidas) por tiro.\n",
        "  \"\"\"\n",
        "  resultado_juegos = []\n",
        "  resultado_ganancias = []\n",
        "  for i in range(no_juegos):\n",
        "    cara = random.randint(0, 1)\n",
        "    resultado_juegos.append(cara)\n",
        "    if resultado_juegos[i] == apuesta:\n",
        "      resultado_ganancias.append(monto_ganancia)\n",
        "    else:\n",
        "      resultado_ganancias.append(-monto_apuesta)\n",
        "  return resultado_juegos, resultado_ganancias"
      ],
      "metadata": {
        "id": "q2i6mxDjLyhy"
      },
      "execution_count": 18,
      "outputs": []
    },
    {
      "cell_type": "code",
      "source": [
        "# Función ruleta\n",
        "def ruleta(no_juegos, apuesta, monto_apuesta, monto_ganancia):\n",
        "    \"\"\"\n",
        "    Esta función simula jugar un juego de ruleta un cierto número de veces apostando siempre al mismo número, \n",
        "    guarda el resultado del juego y de acuerdo con la apuesta, calcula y almacena las ganancias obtenidas (o pérdidas) por juego.\n",
        "    \"\"\"\n",
        "    resultado_juegos = []\n",
        "    resultado_ganancias = []\n",
        "    for i in range(no_juegos):\n",
        "      resultado_juegos.append(random.randint(0, 36))\n",
        "      if resultado_juegos[i] == apuesta:\n",
        "        resultado_ganancias.append(monto_ganancia)\n",
        "      else:\n",
        "        resultado_ganancias.append(-apuesta)\n",
        "    return resultado_juegos, resultado_ganancias"
      ],
      "metadata": {
        "id": "hQ9SKHrkmZPG"
      },
      "execution_count": 11,
      "outputs": []
    },
    {
      "cell_type": "code",
      "source": [
        "# Función dados\n",
        "def dados(tiros, caras1, caras2):\n",
        "  \"\"\"\n",
        "  Esta función simula tirar unos dados con un número variable de caras un cierto número de veces, \n",
        "  y guarda el resultado de la suma de las caras de los datos por tiro.\n",
        "  \"\"\"\n",
        "  resultados = []\n",
        "  for i in range(tiros):\n",
        "    dado1 = random.randint(1, caras1)\n",
        "    dado2 = random.randint(1, caras2)\n",
        "    resultados.append(dado1 + dado2)\n",
        "  return resultados"
      ],
      "metadata": {
        "id": "CscG-SCkmrRm"
      },
      "execution_count": 26,
      "outputs": []
    },
    {
      "cell_type": "code",
      "source": [
        "# Functión probabilidad\n",
        "def proba(vector):\n",
        "  \"\"\"\n",
        "  Esta función calcula la probabilidad de que en cierto número de tiros de moneda salga la misma cara 6 veces seguidas.\n",
        "  \"\"\"\n",
        "  contador = 0\n",
        "  for i in range(len(vector)):\n",
        "    try:\n",
        "      if vector[i] == 1 and vector[i+1] == 1 and vector[i+2] == 1 and vector[i+3] == 1 and vector[i+4] == 1 and vector[i+5] == 1:\n",
        "        contador = contador + 1\n",
        "    except:\n",
        "      pass\n",
        "\n",
        "  return print(f'Se identificaron 6 caras seguidas {contador} veces, lo que da una probabilidad de {contador/len(vector)}')\n",
        "  "
      ],
      "metadata": {
        "id": "5xo7zloQRqUJ"
      },
      "execution_count": 42,
      "outputs": []
    },
    {
      "cell_type": "markdown",
      "source": [
        "Imagina que apuestas 1 pumadolar eso y cada vez que ganas un juego de ruleta ganas 36 pumadolares. Y cada vez que juegas moneda ganas 1 pumadolares y te regresan tu apuesta\n",
        "\n",
        "Si tuvieras 1048576 pumadolares para gastar, y no hay límite de apuesta\n",
        "\n",
        "\n",
        "1.   ¿Cómo se ve la distrubución de ganancias después de 1000 juegos de ruleta y moneda?\n",
        "\n"
      ],
      "metadata": {
        "id": "c7QJXfcqg1g3"
      }
    },
    {
      "cell_type": "code",
      "execution_count": 12,
      "metadata": {
        "id": "D3RJSij6fzvq",
        "colab": {
          "base_uri": "https://localhost:8080/"
        },
        "outputId": "eb770dd1-0766-42f2-f09c-da4b58555753"
      },
      "outputs": [
        {
          "output_type": "execute_result",
          "data": {
            "text/plain": [
              "-6097"
            ]
          },
          "metadata": {},
          "execution_count": 12
        }
      ],
      "source": [
        "# Juego de ruleta\n",
        "no_juegos = 1000\n",
        "monto_apuesta = 1\n",
        "monto_ganancia = 36\n",
        "apuesta = 7\n",
        "\n",
        "ruleta_juegos, ruleta_ganancias = ruleta(no_juegos = no_juegos, apuesta = apuesta, monto_apuesta = monto_apuesta, monto_ganancia = monto_ganancia)\n",
        "sum(ruleta_ganancias)\n"
      ]
    },
    {
      "cell_type": "code",
      "source": [
        "# Gráfica de la distribución de ganancias del juego de ruleta\n",
        "f, axes = plt.subplots(figsize=(10,6))\n",
        "plt.hist(ruleta_ganancias, color = \"Blue\")\n",
        "plt.xlabel('Ganancias')\n",
        "plt.ylabel('Frecuencia')\n",
        "plt.show()"
      ],
      "metadata": {
        "colab": {
          "base_uri": "https://localhost:8080/",
          "height": 391
        },
        "id": "_RWQZlCnJ44j",
        "outputId": "0651b986-f35d-498a-fbb7-a8b60a0da5fa"
      },
      "execution_count": 43,
      "outputs": [
        {
          "output_type": "display_data",
          "data": {
            "text/plain": [
              "<Figure size 720x432 with 1 Axes>"
            ],
            "image/png": "[encoded data removed]"
          },
          "metadata": {}
        }
      ]
    },
    {
      "cell_type": "code",
      "source": [
        "# Juego de moneda\n",
        "no_juegos = 1000\n",
        "monto_apuesta = 1\n",
        "monto_ganancia = 1\n",
        "apuesta = 1 # Cara\n",
        "\n",
        "moneda_juegos, moneda_ganancias = moneda(no_juegos = no_juegos, apuesta = apuesta, monto_apuesta = monto_apuesta, monto_ganancia = monto_ganancia)\n",
        "sum(moneda_ganancias)"
      ],
      "metadata": {
        "colab": {
          "base_uri": "https://localhost:8080/"
        },
        "id": "37eK7yIBKQ9N",
        "outputId": "cf53f02f-2695-47fa-dae7-833e39910fcc"
      },
      "execution_count": 19,
      "outputs": [
        {
          "output_type": "execute_result",
          "data": {
            "text/plain": [
              "38"
            ]
          },
          "metadata": {},
          "execution_count": 19
        }
      ]
    },
    {
      "cell_type": "code",
      "source": [
        "# Gráfica de la distribución de ganancias del juego de ruleta\n",
        "f, axes = plt.subplots(figsize=(10,6))\n",
        "plt.hist(moneda_ganancias, color = \"Blue\")\n",
        "plt.xlabel('Ganancias')\n",
        "plt.ylabel('Frecuencia')\n",
        "plt.show()"
      ],
      "metadata": {
        "colab": {
          "base_uri": "https://localhost:8080/",
          "height": 391
        },
        "id": "4-hofSibOSmo",
        "outputId": "cf805bbb-fe30-4c10-9452-0eef64d8fed4"
      },
      "execution_count": 44,
      "outputs": [
        {
          "output_type": "display_data",
          "data": {
            "text/plain": [
              "<Figure size 720x432 with 1 Axes>"
            ],
            "image/png": "[encoded data removed]"
          },
          "metadata": {}
        }
      ]
    },
    {
      "cell_type": "markdown",
      "source": [
        "  2. ¿Si los dados tuvieran 6, 8, 10, 12, ..., 20 caras, a qué distribución se empieza a parecer la suma del lanzamiento de 2 de esos dados?\n",
        "\n"
      ],
      "metadata": {
        "id": "N4iVWwHSihrL"
      }
    },
    {
      "cell_type": "code",
      "source": [
        "# 100 tiros con dados con 6 caras\n",
        "dados6 = dados(100, 6, 6)\n",
        "f, axes = plt.subplots(figsize=(12,6))\n",
        "plt.hist(dados6, bins=10, color = \"Blue\")\n",
        "plt.xlabel('Suma de las caras')\n",
        "plt.ylabel('Frecuencia')\n",
        "plt.show()"
      ],
      "metadata": {
        "id": "90i07opdilvc",
        "colab": {
          "base_uri": "https://localhost:8080/",
          "height": 391
        },
        "outputId": "b1743483-751c-4c0f-b6de-b2375fe71f9e"
      },
      "execution_count": 45,
      "outputs": [
        {
          "output_type": "display_data",
          "data": {
            "text/plain": [
              "<Figure size 864x432 with 1 Axes>"
            ],
            "image/png": "[encoded data removed]"
          },
          "metadata": {}
        }
      ]
    },
    {
      "cell_type": "code",
      "source": [
        "# 100 tiros con dados con 20 caras\n",
        "dados20 = dados(100, 20, 20)\n",
        "f, axes = plt.subplots(figsize=(15,6))\n",
        "plt.hist(dados20, bins=10, color = \"Blue\")\n",
        "plt.xlabel('Suma de las caras')\n",
        "plt.ylabel('Frecuencia')\n",
        "plt.show()"
      ],
      "metadata": {
        "id": "4JP6qKz4nShB",
        "colab": {
          "base_uri": "https://localhost:8080/",
          "height": 391
        },
        "outputId": "aa7d0442-4fa9-4bd1-b288-3fc5fc9e80fb"
      },
      "execution_count": 46,
      "outputs": [
        {
          "output_type": "display_data",
          "data": {
            "text/plain": [
              "<Figure size 1080x432 with 1 Axes>"
            ],
            "image/png": "[encoded data removed]"
          },
          "metadata": {}
        }
      ]
    },
    {
      "cell_type": "markdown",
      "source": [
        "Simula 10, 100, 1000 y 10000 lanzamientos de moned utilizando la función que creaste y responde las siguientes preguntas:\n",
        "\n",
        "¿Cuál es la probabilidad de obtener 6 lanzamientos de cara segiudos? (con cada simulación)\n",
        "\n",
        "Después de 1000 lanzamientos, ¿Cuál es la distribución de cada juego? (Grafica los resultados)"
      ],
      "metadata": {
        "id": "CidNSmFzivER"
      }
    },
    {
      "cell_type": "code",
      "source": [
        "# 10 lanzamientos\n",
        "lanza10, ganancias10 = moneda(10, 1, 1, 1)\n",
        "print(f\"El numero de lanzamientos fue: {len(lanza10)}\")"
      ],
      "metadata": {
        "id": "p3N-kpWAjbWH",
        "colab": {
          "base_uri": "https://localhost:8080/"
        },
        "outputId": "0232244a-8e66-4493-9f0e-e2bc8baf757e"
      },
      "execution_count": 41,
      "outputs": [
        {
          "output_type": "stream",
          "name": "stdout",
          "text": [
            "El numero de lanzamientos fue: 10\n"
          ]
        }
      ]
    },
    {
      "cell_type": "code",
      "source": [
        "# Probabilidad de obtener seis caras seguidas en 10 lanzamientos\n",
        "proba(lanza10)"
      ],
      "metadata": {
        "colab": {
          "base_uri": "https://localhost:8080/"
        },
        "id": "DpjjrhiJmQGq",
        "outputId": "f476768e-7df4-4b85-d527-6c110ca865e8"
      },
      "execution_count": 47,
      "outputs": [
        {
          "output_type": "stream",
          "name": "stdout",
          "text": [
            "Se identificaron 6 caras seguidas 0 veces, lo que da una probabilidad de 0.0\n"
          ]
        }
      ]
    },
    {
      "cell_type": "code",
      "source": [
        "# 100 lanzamientos\n",
        "lanza100, ganancias100 = moneda(100, 1, 1, 1)\n",
        "print(f\"El numero de lanzamientos fue: {len(lanza100)}\")"
      ],
      "metadata": {
        "colab": {
          "base_uri": "https://localhost:8080/"
        },
        "id": "T-658DXObuLy",
        "outputId": "157a48a5-95bb-4f50-f313-fe2b2c9aa61f"
      },
      "execution_count": 49,
      "outputs": [
        {
          "output_type": "stream",
          "name": "stdout",
          "text": [
            "El numero de lanzamientos fue: 100\n"
          ]
        }
      ]
    },
    {
      "cell_type": "code",
      "source": [
        "# Probabilidad de obtener seis caras seguidas en 100 lanzamientos\n",
        "proba(lanza100)"
      ],
      "metadata": {
        "colab": {
          "base_uri": "https://localhost:8080/"
        },
        "id": "KWrE4alul5ee",
        "outputId": "d10c24cd-0c07-4598-9497-2643c056b625"
      },
      "execution_count": 50,
      "outputs": [
        {
          "output_type": "stream",
          "name": "stdout",
          "text": [
            "Se identificaron 6 caras seguidas 0 veces, lo que da una probabilidad de 0.0\n"
          ]
        }
      ]
    },
    {
      "cell_type": "code",
      "source": [
        "# 1000 lanzamientos\n",
        "lanza1000, ganancias1000 = moneda(1000, 1, 1, 1)\n",
        "print(f\"El numero de lanzamientos fue: {len(lanza1000)}\")"
      ],
      "metadata": {
        "colab": {
          "base_uri": "https://localhost:8080/"
        },
        "id": "bnyRJ0oibwBq",
        "outputId": "acb63b6b-fa4d-4214-d0b4-adf371fcca3e"
      },
      "execution_count": 52,
      "outputs": [
        {
          "output_type": "stream",
          "name": "stdout",
          "text": [
            "El numero de lanzamientos fue: 1000\n"
          ]
        }
      ]
    },
    {
      "cell_type": "code",
      "source": [
        "# Probabilidad de obtener seis caras seguidas en 1000 lanzamientos\n",
        "proba(lanza1000)"
      ],
      "metadata": {
        "colab": {
          "base_uri": "https://localhost:8080/"
        },
        "id": "EKhZvc6cmBpP",
        "outputId": "feeef903-2463-4c26-abe5-e5eab022886b"
      },
      "execution_count": 57,
      "outputs": [
        {
          "output_type": "stream",
          "name": "stdout",
          "text": [
            "Se identificaron 6 caras seguidas 24 veces, lo que da una probabilidad de 0.024\n"
          ]
        }
      ]
    },
    {
      "cell_type": "code",
      "source": [
        "# 10000 lanzamientos\n",
        "lanza10000, ganancias10000 = moneda(10000,1,1,1)\n",
        "print(f\"El numero de lanzamientos fue: {len(lanza10000)}\")"
      ],
      "metadata": {
        "colab": {
          "base_uri": "https://localhost:8080/"
        },
        "id": "bK5-MiQKcNkl",
        "outputId": "35cb5961-3cf0-4d6a-8255-4beda13b4b62"
      },
      "execution_count": 59,
      "outputs": [
        {
          "output_type": "stream",
          "name": "stdout",
          "text": [
            "El numero de lanzamientos fue: 10000\n"
          ]
        }
      ]
    },
    {
      "cell_type": "code",
      "source": [
        "# Probabilidad de obtener seis caras seguidas en 10000 lanzamientos\n",
        "proba(lanza10000)"
      ],
      "metadata": {
        "colab": {
          "base_uri": "https://localhost:8080/"
        },
        "id": "xCAh1TkHmI3Y",
        "outputId": "fbe0c6b6-a032-4350-f8a4-6f7f07d318a9"
      },
      "execution_count": 60,
      "outputs": [
        {
          "output_type": "stream",
          "name": "stdout",
          "text": [
            "Se identificaron 6 caras seguidas 158 veces, lo que da una probabilidad de 0.0158\n"
          ]
        }
      ]
    },
    {
      "cell_type": "code",
      "source": [
        "fig, axs = plt.subplots(4, tight_layout=True)\n",
        "axs[0].hist(x=lanza10, bins=2, color = \"Blue\")\n",
        "axs[1].hist(x=lanza100, bins=2, color = \"Green\")\n",
        "axs[2].hist(x=lanza1000, bins=2, color = \"Red\")\n",
        "axs[3].hist(x=lanza10000, bins=2, color = \"Yellow\")"
      ],
      "metadata": {
        "colab": {
          "base_uri": "https://localhost:8080/",
          "height": 314
        },
        "id": "O_sto4JKcQVA",
        "outputId": "5bd16027-53b1-4d3d-da3a-0ecd71b6bdb0"
      },
      "execution_count": 63,
      "outputs": [
        {
          "output_type": "execute_result",
          "data": {
            "text/plain": [
              "(array([4973., 5027.]), array([0. , 0.5, 1. ]), <a list of 2 Patch objects>)"
            ]
          },
          "metadata": {},
          "execution_count": 63
        },
        {
          "output_type": "display_data",
          "data": {
            "text/plain": [
              "<Figure size 432x288 with 4 Axes>"
            ],
            "image/png": "[encoded data removed]"
          },
          "metadata": {}
        }
      ]
    },
    {
      "cell_type": "code",
      "source": [
        "#Done!"
      ],
      "metadata": {
        "id": "I8kW404ldMUN"
      },
      "execution_count": null,
      "outputs": []
    }
  ]
}